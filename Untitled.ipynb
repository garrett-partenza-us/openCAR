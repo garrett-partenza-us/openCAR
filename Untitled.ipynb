{
 "cells": [
  {
   "cell_type": "code",
   "execution_count": 1,
   "id": "98ef153d-ee56-4ab1-b444-b79650dbe15a",
   "metadata": {},
   "outputs": [],
   "source": [
    "import torch"
   ]
  },
  {
   "cell_type": "code",
   "execution_count": 47,
   "id": "8f0d3912-4e73-4ca4-ae8f-842e18364c1f",
   "metadata": {},
   "outputs": [],
   "source": [
    "kernels, offsets_x, offsets_y = torch.rand(8,48,48,9), torch.rand(8,48,48,9), torch.rand(8,48,48,9)\n",
    "images = torch.rand(8,96,96,3)\n",
    "ksize = 3\n",
    "scale = 4\n",
    "u, v = torch.arange(48)+0.5*scale-0.5, torch.arange(48)+0.5*scale-0.5\n",
    "coords_x = torch.add(offsets_x, ksize/2)\n",
    "coords_x = torch.add(offsets_x, torch.arange(3).reshape(3,1).repeat(1,3).flatten())\n",
    "coords_x = torch.add(offsets_x, u.reshape(48,1).repeat(1,9))\n",
    "coords_y = torch.add(offsets_y, ksize/2)\n",
    "coords_y = torch.add(offsets_y, torch.arange(3).repeat(3))\n",
    "coords_y = torch.add(offsets_y, u.reshape(48,1).repeat(1,9))"
   ]
  },
  {
   "cell_type": "code",
   "execution_count": 48,
   "id": "ace04946-9d4e-4b0b-989c-712a1dae83a1",
   "metadata": {},
   "outputs": [],
   "source": [
    "coords_x = torch.add(offsets_x, ksize/2)\n",
    "coords_x = torch.add(offsets_x, torch.arange(3).reshape(3,1).repeat(1,3).flatten())\n",
    "coords_x = torch.add(offsets_x, u.reshape(48,1).repeat(1,9))\n",
    "coords_y = torch.add(offsets_y, ksize/2)\n",
    "coords_y = torch.add(offsets_y, torch.arange(3).repeat(3))\n",
    "coords_y = torch.add(offsets_y, u.reshape(48,1).repeat(1,9))"
   ]
  },
  {
   "cell_type": "code",
   "execution_count": 83,
   "id": "09cc20a6-9138-4bf4-8380-de9465d4828a",
   "metadata": {},
   "outputs": [],
   "source": [
    "def batch_bli(im, x, y, channel_first=False, dtype=torch.FloatTensor, dtype_long=torch.LongTensor):\n",
    "    # ensure channel last\n",
    "    if channel_first:\n",
    "        im = im.permute(0,2,3,1)\n",
    "    batch = im.shape[0]\n",
    "    num_points = x.shape[1]\n",
    "    assert x.shape==y.shape\n",
    "    # Get four corner indicies\n",
    "    x0 = torch.floor(x).type(dtype_long)\n",
    "    x1 = x0 + 1\n",
    "    y0 = torch.floor(y).type(dtype_long)\n",
    "    y1 = y0 + 1\n",
    "    # Clamp within h, w boundries\n",
    "    x0 = torch.clamp(x0, 0, im.shape[2]-1)\n",
    "    x1 = torch.clamp(x1, 0, im.shape[2]-1)\n",
    "    y0 = torch.clamp(y0, 0, im.shape[1]-1)\n",
    "    y1 = torch.clamp(y1, 0, im.shape[1]-1)\n",
    "    # Get four corner pixel values\n",
    "    Ia = torch.cat([im[b, x, y, :] for b in range(batch) for x, y in zip(x0[b], y0[b])])\n",
    "    Ib = torch.cat([im[b, x, y, :] for b in range(batch) for x, y in zip(x0[b], y0[b])])\n",
    "    Ic = torch.cat([im[b, x, y, :] for b in range(batch) for x, y in zip(x0[b], y0[b])])\n",
    "    Id = torch.cat([im[b, x, y, :] for b in range(batch) for x, y in zip(x0[b], y0[b])])\n",
    "    # Define matricies\n",
    "    scale = (1 / ( (x1-x0) * (y1-y0) ) ).flatten()\n",
    "    m1 = torch.cat([ torch.sub(x1, x), torch.sub(x, x0)], dim=1)\n",
    "    m2 = torch.stack([Ib, Ia, Id, Ic], dim=1).reshape(batch*num_points,2,2,3)\n",
    "    m3 = torch.cat([ torch.sub(y1, y), torch.sub(y, y0) ], dim=1)\n",
    "    # Reshape for batch matmul\n",
    "    m1 = m1.reshape(batch*num_points,1,1,2).repeat(1,2,1,1)\n",
    "    m3 = m3.reshape(batch*num_points,1,2,1)\n",
    "    return scale[:,None] * torch.matmul( torch.matmul(m1, m2).permute(0,3,2,1), m3 ).flatten(start_dim=1)"
   ]
  },
  {
   "cell_type": "code",
   "execution_count": 84,
   "id": "f8b319c8-2544-47e4-a91e-2095bf21afb9",
   "metadata": {},
   "outputs": [
    {
     "name": "stdout",
     "output_type": "stream",
     "text": [
      "8 torch.Size([8, 20736]) torch.Size([8, 20736])\n"
     ]
    }
   ],
   "source": [
    "pix_hr = batch_bli(images, coords_x.flatten(start_dim=1), coords_y.flatten(start_dim=1))\n",
    "pix_hr = points.reshape(8,48,48,9,3)\n",
    "pix_lr = torch.mul(kernels.unsqueeze(-1).repeat(1,1,1,1,3), res)\n",
    "out = torch.sum(out, axis=-2)"
   ]
  },
  {
   "cell_type": "code",
   "execution_count": 96,
   "id": "151b5c76-77b4-497d-bdbe-bcf628b27993",
   "metadata": {},
   "outputs": [],
   "source": [
    "out = torch.sum(out, axis=-2)"
   ]
  },
  {
   "cell_type": "code",
   "execution_count": 97,
   "id": "855a54fc-0599-4df3-8b01-26bab5aee532",
   "metadata": {},
   "outputs": [
    {
     "data": {
      "text/plain": [
       "torch.Size([8, 48, 48, 3])"
      ]
     },
     "execution_count": 97,
     "metadata": {},
     "output_type": "execute_result"
    }
   ],
   "source": [
    "out.shape"
   ]
  },
  {
   "cell_type": "code",
   "execution_count": 100,
   "id": "a8e733f3-4576-44b0-9c76-c1989ac0c645",
   "metadata": {},
   "outputs": [],
   "source": [
    "x = torch.rand(3)"
   ]
  },
  {
   "cell_type": "code",
   "execution_count": 101,
   "id": "0674c976-174b-4773-aa9c-1981bad8a52c",
   "metadata": {},
   "outputs": [
    {
     "data": {
      "text/plain": [
       "tensor([0.5966, 0.0629, 0.8539])"
      ]
     },
     "execution_count": 101,
     "metadata": {},
     "output_type": "execute_result"
    }
   ],
   "source": [
    "x"
   ]
  },
  {
   "cell_type": "code",
   "execution_count": 103,
   "id": "86e97f89-d015-4676-8c56-5de686df073c",
   "metadata": {},
   "outputs": [
    {
     "data": {
      "text/plain": [
       "tensor([0.6873, 0.0016, 0.9803])"
      ]
     },
     "execution_count": 103,
     "metadata": {},
     "output_type": "execute_result"
    }
   ],
   "source": [
    "x - ( torch.sin( 2 * torch.pi * x ) / (2 * torch.pi) )"
   ]
  },
  {
   "cell_type": "code",
   "execution_count": null,
   "id": "6b6e7e9d-0733-4232-a94c-3bef61d72981",
   "metadata": {},
   "outputs": [],
   "source": []
  }
 ],
 "metadata": {
  "kernelspec": {
   "display_name": "pytorch_env",
   "language": "python",
   "name": "pytorch_env"
  },
  "language_info": {
   "codemirror_mode": {
    "name": "ipython",
    "version": 3
   },
   "file_extension": ".py",
   "mimetype": "text/x-python",
   "name": "python",
   "nbconvert_exporter": "python",
   "pygments_lexer": "ipython3",
   "version": "3.7.13"
  }
 },
 "nbformat": 4,
 "nbformat_minor": 5
}
