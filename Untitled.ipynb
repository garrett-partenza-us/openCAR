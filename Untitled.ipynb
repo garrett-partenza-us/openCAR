{
 "cells": [
  {
   "cell_type": "code",
   "execution_count": 49,
   "id": "93fd8d89-6f20-426c-897d-c4879d33dacd",
   "metadata": {},
   "outputs": [],
   "source": [
    "import torch"
   ]
  },
  {
   "cell_type": "code",
   "execution_count": 637,
   "id": "4f3a8277-ae1c-4a03-9881-688419ad7cd6",
   "metadata": {},
   "outputs": [],
   "source": [
    "image = torch.rand((5,5,1))\n",
    "image3c = torch.rand((5,5,3))\n",
    "image3cb = torch.rand((16,5,5,3))\n",
    "x, y = torch.tensor(0.5), torch.tensor(0.5)\n",
    "x_b, y_b= torch.rand((16,1)), torch.rand((16,1))"
   ]
  },
  {
   "cell_type": "code",
   "execution_count": 300,
   "id": "357ab016-5d30-48d9-ae9d-b7072d68f25c",
   "metadata": {},
   "outputs": [],
   "source": [
    "def bilinear_interpolate(im, x, y, dtype=torch.FloatTensor, dtype_long=torch.LongTensor):\n",
    "    # Get four corner indicies\n",
    "    x0 = torch.floor(x).type(dtype_long)\n",
    "    x1 = x0 + 1\n",
    "    y0 = torch.floor(y).type(dtype_long)\n",
    "    y1 = y0 + 1\n",
    "    # Clamp within h, w boundries\n",
    "    x0 = torch.clamp(x0, 0, im.shape[1]-1)\n",
    "    x1 = torch.clamp(x1, 0, im.shape[1]-1)\n",
    "    y0 = torch.clamp(y0, 0, im.shape[0]-1)\n",
    "    y1 = torch.clamp(y1, 0, im.shape[0]-1)\n",
    "    # Get four corner pixel values\n",
    "    Ia = im[x0, y0]\n",
    "    Ib = im[x0, y1]\n",
    "    Ic = im[x1, y0]\n",
    "    Id = im[x1, y1]\n",
    "    # Weight four corner pixel values\n",
    "    wa = (x1.type(dtype)-x) * (y1.type(dtype)-y)\n",
    "    wc = (x1.type(dtype)-x) * (y-y0.type(dtype))\n",
    "    wb = (x-x0.type(dtype)) * (y1.type(dtype)-y)\n",
    "    wd = (x-x0.type(dtype)) * (y-y0.type(dtype))\n",
    "    return torch.t((torch.t(Ia)*wa)) + torch.t(torch.t(Ib)*wb) + torch.t(torch.t(Ic)*wc) + torch.t(torch.t(Id)*wd)"
   ]
  },
  {
   "cell_type": "code",
   "execution_count": 301,
   "id": "e7e7469b-d02d-43c7-a311-d584a04f6567",
   "metadata": {},
   "outputs": [],
   "source": [
    "def matrix_interpolation(im, x, y, dtype=torch.FloatTensor, dtype_long=torch.LongTensor):\n",
    "    # Get four corner indicies\n",
    "    x0 = torch.floor(x).type(dtype_long)\n",
    "    x1 = x0 + 1\n",
    "    y0 = torch.floor(y).type(dtype_long)\n",
    "    y1 = y0 + 1\n",
    "    # Clamp within h, w boundries\n",
    "    x0 = torch.clamp(x0, 0, im.shape[1]-1)\n",
    "    x1 = torch.clamp(x1, 0, im.shape[1]-1)\n",
    "    y0 = torch.clamp(y0, 0, im.shape[0]-1)\n",
    "    y1 = torch.clamp(y1, 0, im.shape[0]-1)\n",
    "    # Get four corner pixel values\n",
    "    Ia = im[x0, y0]\n",
    "    Ib = im[x0, y1]\n",
    "    Ic = im[x1, y0]\n",
    "    Id = im[x1, y1]\n",
    "    # Define matricies\n",
    "    scale = 1 / ( (x1-x0) * (y1-y0) )\n",
    "    m1 = torch.Tensor([x1-x, x-x0])\n",
    "    m2 = torch.Tensor([\n",
    "        [Ib, Ia],\n",
    "        [Id, Ic]\n",
    "    ])\n",
    "    m3 = torch.Tensor([\n",
    "        [y1-y],\n",
    "        [y-y0]\n",
    "    ])\n",
    "    return scale * torch.matmul( torch.matmul(m1, m2), m3 )"
   ]
  },
  {
   "cell_type": "code",
   "execution_count": 302,
   "id": "32c9584b-e28d-4c16-b476-5201192a61f3",
   "metadata": {},
   "outputs": [
    {
     "name": "stdout",
     "output_type": "stream",
     "text": [
      "CPU times: user 32.9 ms, sys: 2.26 ms, total: 35.2 ms\n",
      "Wall time: 53.1 ms\n"
     ]
    }
   ],
   "source": [
    "%%time\n",
    "for i in range(100):\n",
    "    res = bilinear_interpolate(image, x, y)"
   ]
  },
  {
   "cell_type": "code",
   "execution_count": 303,
   "id": "041a97d6-9153-4a2c-8bb4-35db9a3c1109",
   "metadata": {},
   "outputs": [
    {
     "name": "stdout",
     "output_type": "stream",
     "text": [
      "CPU times: user 39 ms, sys: 1.29 ms, total: 40.3 ms\n",
      "Wall time: 89.1 ms\n"
     ]
    }
   ],
   "source": [
    "%%time\n",
    "for i in range(100):\n",
    "    res = matrix_interpolation(image, x, y)"
   ]
  },
  {
   "cell_type": "code",
   "execution_count": 621,
   "id": "6ac10e9b-e62c-470c-8095-f1fb07d4cd68",
   "metadata": {},
   "outputs": [],
   "source": [
    "def matrix_interpolation_3c(im, x, y, dtype=torch.FloatTensor, dtype_long=torch.LongTensor):\n",
    "    # Get four corner indicies\n",
    "    x0 = torch.floor(x).type(dtype_long)\n",
    "    x1 = x0 + 1\n",
    "    y0 = torch.floor(y).type(dtype_long)\n",
    "    y1 = y0 + 1\n",
    "    # Clamp within h, w boundries\n",
    "    x0 = torch.clamp(x0, 0, im.shape[1]-1)\n",
    "    x1 = torch.clamp(x1, 0, im.shape[1]-1)\n",
    "    y0 = torch.clamp(y0, 0, im.shape[0]-1)\n",
    "    y1 = torch.clamp(y1, 0, im.shape[0]-1)\n",
    "    # Get four corner pixel values\n",
    "    Ia = im[x0, y0]\n",
    "    Ib = im[x0, y1]\n",
    "    Ic = im[x1, y0]\n",
    "    Id = im[x1, y1]\n",
    "    # Define matricies\n",
    "    scale = 1 / ( (x1-x0) * (y1-y0) )\n",
    "    m1 = torch.Tensor([x1-x, x-x0])\n",
    "    m2 = torch.cat([Ib, Ia, Id, Ic]).reshape(2,2,3)\n",
    "    m3 = torch.Tensor([\n",
    "        [y1-y],\n",
    "        [y-y0]\n",
    "    ])\n",
    "    return scale * torch.matmul( torch.matmul(m1, m2).t(), m3 ).t()"
   ]
  },
  {
   "cell_type": "code",
   "execution_count": 622,
   "id": "e956dea3-d188-4e0f-9213-c13f0e5b7af5",
   "metadata": {},
   "outputs": [
    {
     "name": "stdout",
     "output_type": "stream",
     "text": [
      "CPU times: user 98.7 ms, sys: 3.94 ms, total: 103 ms\n",
      "Wall time: 252 ms\n"
     ]
    }
   ],
   "source": [
    "%%time\n",
    "for i in range(100):\n",
    "    for c in range(3):\n",
    "        res = matrix_interpolation(image3c[:,:,c], x, y)"
   ]
  },
  {
   "cell_type": "code",
   "execution_count": 623,
   "id": "4b7f43e7-499c-4bd7-9a8e-157f221837bc",
   "metadata": {},
   "outputs": [
    {
     "name": "stdout",
     "output_type": "stream",
     "text": [
      "CPU times: user 46.4 ms, sys: 1.93 ms, total: 48.3 ms\n",
      "Wall time: 193 ms\n"
     ]
    }
   ],
   "source": [
    "%%time\n",
    "for i in range(100):\n",
    "    res = matrix_interpolation_3c(image3c, x, y)"
   ]
  },
  {
   "cell_type": "code",
   "execution_count": 650,
   "id": "09294452-96df-4e63-9b14-6f85683bf19f",
   "metadata": {},
   "outputs": [],
   "source": [
    "def matrix_interpolation_3cb(im, x, y, dtype=torch.FloatTensor, dtype_long=torch.LongTensor):\n",
    "    # Get four corner indicies\n",
    "    x0 = torch.floor(x).type(dtype_long)\n",
    "    x1 = x0 + 1\n",
    "    y0 = torch.floor(y).type(dtype_long)\n",
    "    y1 = y0 + 1\n",
    "    # Clamp within h, w boundries\n",
    "    x0 = torch.clamp(x0, 0, im.shape[1]-1)\n",
    "    x1 = torch.clamp(x1, 0, im.shape[1]-1)\n",
    "    y0 = torch.clamp(y0, 0, im.shape[0]-1)\n",
    "    y1 = torch.clamp(y1, 0, im.shape[0]-1)\n",
    "    # Get four corner pixel values\n",
    "    Ia = torch.cat([im[idx, coord[0], coord[1], :].unsqueeze(0) for idx, coord in enumerate(zip(x0, y0))])\n",
    "    Ib = torch.cat([im[idx, coord[0], coord[1], :].unsqueeze(0) for idx, coord in enumerate(zip(x0, y1))])\n",
    "    Ic = torch.cat([im[idx, coord[0], coord[1], :].unsqueeze(0) for idx, coord in enumerate(zip(x1, y0))])\n",
    "    Id = torch.cat([im[idx, coord[0], coord[1], :].unsqueeze(0) for idx, coord in enumerate(zip(x1, y1))])\n",
    "    # Define matricies\n",
    "    scale = (1 / ( (x1-x0) * (y1-y0) ) ).flatten()\n",
    "    m1 = torch.cat([ torch.sub(x1, x), torch.sub(x, x0)], dim=1).reshape(16,1,1,2).repeat(1,2,1,1)\n",
    "    m2 = torch.cat([Ib, Ia, Id, Ic]).reshape(16,2,2,3)\n",
    "    m3 = torch.cat([ torch.sub(y1, y), torch.sub(y, y0) ], dim=1).reshape(16,1,2,1)\n",
    "    return scale[:,None] * torch.matmul( torch.matmul(m1, m2).permute(0,3,2,1), m3 ).flatten(start_dim=1)"
   ]
  },
  {
   "cell_type": "code",
   "execution_count": 651,
   "id": "322897d5-6132-4425-a890-551a7c2efc3c",
   "metadata": {},
   "outputs": [
    {
     "name": "stdout",
     "output_type": "stream",
     "text": [
      "CPU times: user 91.9 ms, sys: 3.92 ms, total: 95.8 ms\n",
      "Wall time: 202 ms\n"
     ]
    }
   ],
   "source": [
    "%%time\n",
    "for b in range(16):\n",
    "    for xy in range(16):\n",
    "        res = matrix_interpolation_3c(image3cb[b], x, y)"
   ]
  },
  {
   "cell_type": "code",
   "execution_count": 654,
   "id": "70f8046f-9a19-4fcb-8983-9bea6b93d152",
   "metadata": {},
   "outputs": [
    {
     "name": "stdout",
     "output_type": "stream",
     "text": [
      "CPU times: user 14.1 ms, sys: 612 µs, total: 14.8 ms\n",
      "Wall time: 6.52 ms\n"
     ]
    }
   ],
   "source": [
    "%%time\n",
    "res = matrix_interpolation_3cb(image3cb, x_b, y_b)"
   ]
  },
  {
   "cell_type": "code",
   "execution_count": 655,
   "id": "f1af8f3e-53ad-45ab-964b-b72ba3f0a937",
   "metadata": {},
   "outputs": [
    {
     "data": {
      "text/plain": [
       "tensor([[0.6300, 0.5568, 0.6429]])"
      ]
     },
     "execution_count": 655,
     "metadata": {},
     "output_type": "execute_result"
    }
   ],
   "source": [
    "matrix_interpolation_3c(image3cb[0,:,:,:], x, y)"
   ]
  },
  {
   "cell_type": "code",
   "execution_count": 656,
   "id": "cb3ffaee-2e80-42c3-99de-390645db5c21",
   "metadata": {},
   "outputs": [
    {
     "data": {
      "text/plain": [
       "tensor([[0.6692, 0.8044, 0.4818],\n",
       "        [0.7247, 0.1245, 0.4228],\n",
       "        [0.5886, 0.5194, 0.5998],\n",
       "        [0.6495, 0.5602, 0.6638],\n",
       "        [0.5683, 0.6709, 0.4474],\n",
       "        [0.2950, 0.5295, 0.7453],\n",
       "        [0.4744, 0.6476, 0.7048],\n",
       "        [0.4726, 0.4456, 0.5612],\n",
       "        [0.5863, 0.5360, 0.5158],\n",
       "        [0.7384, 0.3854, 0.5860],\n",
       "        [0.4490, 0.5046, 0.4237],\n",
       "        [0.2916, 0.5216, 0.5414],\n",
       "        [0.5322, 0.3611, 0.6640],\n",
       "        [0.4352, 0.5196, 0.4954],\n",
       "        [0.6002, 0.5054, 0.5964],\n",
       "        [0.3655, 0.6156, 0.5263]])"
      ]
     },
     "execution_count": 656,
     "metadata": {},
     "output_type": "execute_result"
    }
   ],
   "source": [
    "matrix_interpolation_3cb(image3cb, x.repeat(16).reshape(16,1), y.repeat(16).reshape(16,1))"
   ]
  },
  {
   "cell_type": "code",
   "execution_count": null,
   "id": "173e5eb1-a970-4948-a177-d200b27822dc",
   "metadata": {},
   "outputs": [],
   "source": []
  }
 ],
 "metadata": {
  "kernelspec": {
   "display_name": "pytorch_env",
   "language": "python",
   "name": "pytorch_env"
  },
  "language_info": {
   "codemirror_mode": {
    "name": "ipython",
    "version": 3
   },
   "file_extension": ".py",
   "mimetype": "text/x-python",
   "name": "python",
   "nbconvert_exporter": "python",
   "pygments_lexer": "ipython3",
   "version": "3.7.13"
  }
 },
 "nbformat": 4,
 "nbformat_minor": 5
}
