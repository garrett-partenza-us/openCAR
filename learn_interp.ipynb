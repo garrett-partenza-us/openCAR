{
 "cells": [
  {
   "cell_type": "code",
   "execution_count": 36,
   "id": "93fd8d89-6f20-426c-897d-c4879d33dacd",
   "metadata": {},
   "outputs": [],
   "source": [
    "import torch\n",
    "torch.set_printoptions(sci_mode=False)"
   ]
  },
  {
   "cell_type": "code",
   "execution_count": 37,
   "id": "4f3a8277-ae1c-4a03-9881-688419ad7cd6",
   "metadata": {},
   "outputs": [],
   "source": [
    "image = torch.rand((5,5,1))\n",
    "image3c = torch.rand((5,5,3))\n",
    "x, y = torch.tensor(0.5), torch.tensor(0.5)\n",
    "x_b, y_b = torch.tensor(0.5).repeat(16).reshape(16,1), torch.tensor(0.5).repeat(16).reshape(16,1)"
   ]
  },
  {
   "cell_type": "code",
   "execution_count": 38,
   "id": "a51d8375-178a-4430-8c62-fe02c6b798ca",
   "metadata": {},
   "outputs": [],
   "source": [
    "def compare():\n",
    "    bi = torch.Tensor(tuple(bilinear_interpolate(image3c[:,:,c], x, y).item() for c in range(3))).repeat(16)\n",
    "    bmm = matrix_interpolation_3cb(image3c, x_b, y_b).flatten()\n",
    "    return torch.isclose(bi,bmm).all().item()"
   ]
  },
  {
   "cell_type": "code",
   "execution_count": 39,
   "id": "357ab016-5d30-48d9-ae9d-b7072d68f25c",
   "metadata": {},
   "outputs": [],
   "source": [
    "def bilinear_interpolate(im, x, y, dtype=torch.FloatTensor, dtype_long=torch.LongTensor):\n",
    "    # Get four corner indicies\n",
    "    x0 = torch.floor(x).type(dtype_long)\n",
    "    x1 = x0 + 1\n",
    "    y0 = torch.floor(y).type(dtype_long)\n",
    "    y1 = y0 + 1\n",
    "    # Clamp within h, w boundries\n",
    "    x0 = torch.clamp(x0, 0, im.shape[1]-1)\n",
    "    x1 = torch.clamp(x1, 0, im.shape[1]-1)\n",
    "    y0 = torch.clamp(y0, 0, im.shape[0]-1)\n",
    "    y1 = torch.clamp(y1, 0, im.shape[0]-1)\n",
    "    # Get four corner pixel values\n",
    "    Ia = im[x0, y0]\n",
    "    Ib = im[x0, y1]\n",
    "    Ic = im[x1, y0]\n",
    "    Id = im[x1, y1]\n",
    "    # Weight four corner pixel values\n",
    "    wa = (x1.type(dtype)-x) * (y1.type(dtype)-y)\n",
    "    wc = (x1.type(dtype)-x) * (y-y0.type(dtype))\n",
    "    wb = (x-x0.type(dtype)) * (y1.type(dtype)-y)\n",
    "    wd = (x-x0.type(dtype)) * (y-y0.type(dtype))\n",
    "    return torch.t((torch.t(Ia)*wa)) + torch.t(torch.t(Ib)*wb) + torch.t(torch.t(Ic)*wc) + torch.t(torch.t(Id)*wd)"
   ]
  },
  {
   "cell_type": "code",
   "execution_count": 247,
   "id": "e7e7469b-d02d-43c7-a311-d584a04f6567",
   "metadata": {},
   "outputs": [],
   "source": [
    "def matrix_interpolation(im, x, y, dtype=torch.FloatTensor, dtype_long=torch.LongTensor):\n",
    "    # Get four corner indicies\n",
    "    x0 = torch.floor(x).type(dtype_long)\n",
    "    x1 = x0 + 1\n",
    "    y0 = torch.floor(y).type(dtype_long)\n",
    "    y1 = y0 + 1\n",
    "    # Clamp within h, w boundries\n",
    "    x0 = torch.clamp(x0, 0, im.shape[1]-1)\n",
    "    x1 = torch.clamp(x1, 0, im.shape[1]-1)\n",
    "    y0 = torch.clamp(y0, 0, im.shape[0]-1)\n",
    "    y1 = torch.clamp(y1, 0, im.shape[0]-1)\n",
    "    # Get four corner pixel values\n",
    "    Ia = im[x0, y0]\n",
    "    Ib = im[x0, y1]\n",
    "    Ic = im[x1, y0]\n",
    "    Id = im[x1, y1]\n",
    "    # Define matricies\n",
    "    scale = 1 / ( (x1-x0) * (y1-y0) )\n",
    "    m1 = torch.Tensor([x1-x, x-x0])\n",
    "    m2 = torch.Tensor([\n",
    "        [Ib, Ia],\n",
    "        [Id, Ic]\n",
    "    ])\n",
    "    m3 = torch.Tensor([\n",
    "        [y1-y],\n",
    "        [y-y0]\n",
    "    ])\n",
    "    return scale * torch.matmul( torch.matmul(m1, m2), m3 )"
   ]
  },
  {
   "cell_type": "code",
   "execution_count": 248,
   "id": "32c9584b-e28d-4c16-b476-5201192a61f3",
   "metadata": {},
   "outputs": [
    {
     "name": "stdout",
     "output_type": "stream",
     "text": [
      "CPU times: user 35.4 ms, sys: 1e+03 µs, total: 36.4 ms\n",
      "Wall time: 64.2 ms\n"
     ]
    }
   ],
   "source": [
    "%%time\n",
    "for i in range(100):\n",
    "    res = bilinear_interpolate(image, x, y)"
   ]
  },
  {
   "cell_type": "code",
   "execution_count": 249,
   "id": "041a97d6-9153-4a2c-8bb4-35db9a3c1109",
   "metadata": {},
   "outputs": [
    {
     "name": "stdout",
     "output_type": "stream",
     "text": [
      "CPU times: user 31.9 ms, sys: 4.7 ms, total: 36.6 ms\n",
      "Wall time: 50.7 ms\n"
     ]
    }
   ],
   "source": [
    "%%time\n",
    "for i in range(100):\n",
    "    res = matrix_interpolation(image, x, y)"
   ]
  },
  {
   "cell_type": "code",
   "execution_count": 250,
   "id": "6ac10e9b-e62c-470c-8095-f1fb07d4cd68",
   "metadata": {},
   "outputs": [],
   "source": [
    "def matrix_interpolation_3c(im, x, y, dtype=torch.FloatTensor, dtype_long=torch.LongTensor):\n",
    "    # Get four corner indicies\n",
    "    x0 = torch.floor(x).type(dtype_long)\n",
    "    x1 = x0 + 1\n",
    "    y0 = torch.floor(y).type(dtype_long)\n",
    "    y1 = y0 + 1\n",
    "    # Clamp within h, w boundries\n",
    "    x0 = torch.clamp(x0, 0, im.shape[1]-1)\n",
    "    x1 = torch.clamp(x1, 0, im.shape[1]-1)\n",
    "    y0 = torch.clamp(y0, 0, im.shape[0]-1)\n",
    "    y1 = torch.clamp(y1, 0, im.shape[0]-1)\n",
    "    # Get four corner pixel values\n",
    "    Ia = im[x0, y0]\n",
    "    Ib = im[x0, y1]\n",
    "    Ic = im[x1, y0]\n",
    "    Id = im[x1, y1]\n",
    "    # Define matricies\n",
    "    scale = 1 / ( (x1-x0) * (y1-y0) )\n",
    "    m1 = torch.Tensor([x1-x, x-x0])\n",
    "    m2 = torch.cat([Ib, Ia, Id, Ic]).reshape(2,2,3)\n",
    "    m3 = torch.Tensor([\n",
    "        [y1-y],\n",
    "        [y-y0]\n",
    "    ])\n",
    "    return scale * torch.matmul( torch.matmul(m1, m2).t(), m3 ).t()"
   ]
  },
  {
   "cell_type": "code",
   "execution_count": 251,
   "id": "e956dea3-d188-4e0f-9213-c13f0e5b7af5",
   "metadata": {},
   "outputs": [
    {
     "name": "stdout",
     "output_type": "stream",
     "text": [
      "CPU times: user 99.4 ms, sys: 2.91 ms, total: 102 ms\n",
      "Wall time: 263 ms\n"
     ]
    }
   ],
   "source": [
    "%%time\n",
    "for i in range(100):\n",
    "    for c in range(3):\n",
    "        res = matrix_interpolation(image3c[:,:,c], x, y)"
   ]
  },
  {
   "cell_type": "code",
   "execution_count": 252,
   "id": "4b7f43e7-499c-4bd7-9a8e-157f221837bc",
   "metadata": {},
   "outputs": [
    {
     "name": "stdout",
     "output_type": "stream",
     "text": [
      "CPU times: user 42.1 ms, sys: 4.72 ms, total: 46.9 ms\n",
      "Wall time: 193 ms\n"
     ]
    }
   ],
   "source": [
    "%%time\n",
    "for i in range(100):\n",
    "    res = matrix_interpolation_3c(image3c, x, y)"
   ]
  },
  {
   "cell_type": "code",
   "execution_count": 21,
   "id": "09294452-96df-4e63-9b14-6f85683bf19f",
   "metadata": {},
   "outputs": [],
   "source": [
    "def matrix_interpolation_3cb(im, x, y, dtype=torch.FloatTensor, dtype_long=torch.LongTensor):\n",
    "    # Get four corner indicies\n",
    "    x0 = torch.floor(x).type(dtype_long)\n",
    "    x1 = x0 + 1\n",
    "    y0 = torch.floor(y).type(dtype_long)\n",
    "    y1 = y0 + 1\n",
    "    # Clamp within h, w boundries\n",
    "    x0 = torch.clamp(x0, 0, im.shape[1]-1)\n",
    "    x1 = torch.clamp(x1, 0, im.shape[1]-1)\n",
    "    y0 = torch.clamp(y0, 0, im.shape[0]-1)\n",
    "    y1 = torch.clamp(y1, 0, im.shape[0]-1)\n",
    "    # Get four corner pixel values\n",
    "    Ia = torch.cat([im[coord[0], coord[1], :].unsqueeze(0) for coord in zip(x0, y0)])\n",
    "    Ib = torch.cat([im[coord[0], coord[1], :].unsqueeze(0) for coord in zip(x0, y1)])\n",
    "    Ic = torch.cat([im[coord[0], coord[1], :].unsqueeze(0) for coord in zip(x1, y0)])\n",
    "    Id = torch.cat([im[coord[0], coord[1], :].unsqueeze(0) for coord in zip(x1, y1)])\n",
    "    # Define matricies\n",
    "    scale = (1 / ( (x1-x0) * (y1-y0) ) ).flatten()\n",
    "    m1 = torch.cat([ torch.sub(x1, x), torch.sub(x, x0)], dim=1)\n",
    "    m2 = torch.stack([Ib, Ia, Id, Ic], dim=1).reshape(16,2,2,3)\n",
    "    m3 = torch.cat([ torch.sub(y1, y), torch.sub(y, y0) ], dim=1)\n",
    "    # Reshape for batch matmul\n",
    "    m1 = m1.reshape(16,1,1,2).repeat(1,2,1,1)\n",
    "    m3 = m3.reshape(16,1,2,1)\n",
    "    return scale[:,None] * torch.matmul( torch.matmul(m1, m2).permute(0,3,2,1), m3 ).flatten(start_dim=1)"
   ]
  },
  {
   "cell_type": "code",
   "execution_count": 53,
   "id": "7ecdf5aa-d99c-447f-be2d-5d614d56b896",
   "metadata": {},
   "outputs": [],
   "source": [
    "def batch_bli(im, x, y, channel_first=False, dtype=torch.FloatTensor, dtype_long=torch.LongTensor):\n",
    "    # ensure channel last\n",
    "    if channel_first:\n",
    "        im = im.permute(0,2,3,1)\n",
    "    batch = im.shape[0]\n",
    "    num_points = x.shape[1]\n",
    "    assert x.shape==y.shape\n",
    "    # Get four corner indicies\n",
    "    x0 = torch.floor(x).type(dtype_long)\n",
    "    x1 = x0 + 1\n",
    "    y0 = torch.floor(y).type(dtype_long)\n",
    "    y1 = y0 + 1\n",
    "    # Clamp within h, w boundries\n",
    "    x0 = torch.clamp(x0, 0, im.shape[2]-1)\n",
    "    x1 = torch.clamp(x1, 0, im.shape[2]-1)\n",
    "    y0 = torch.clamp(y0, 0, im.shape[1]-1)\n",
    "    y1 = torch.clamp(y1, 0, im.shape[1]-1)\n",
    "    print(batch, x0.shape, y0.shape)\n",
    "    # Get four corner pixel values\n",
    "    Ia = torch.cat([im[b, x, y, :] for b in range(batch) for x, y in zip(x0[b], y0[b])])\n",
    "    Ib = torch.cat([im[b, x, y, :] for b in range(batch) for x, y in zip(x0[b], y0[b])])\n",
    "    Ic = torch.cat([im[b, x, y, :] for b in range(batch) for x, y in zip(x0[b], y0[b])])\n",
    "    Id = torch.cat([im[b, x, y, :] for b in range(batch) for x, y in zip(x0[b], y0[b])])\n",
    "    # Define matricies\n",
    "    scale = (1 / ( (x1-x0) * (y1-y0) ) ).flatten()\n",
    "    m1 = torch.cat([ torch.sub(x1, x), torch.sub(x, x0)], dim=1)\n",
    "    m2 = torch.stack([Ib, Ia, Id, Ic], dim=1).reshape(batch*num_points,2,2,3)\n",
    "    m3 = torch.cat([ torch.sub(y1, y), torch.sub(y, y0) ], dim=1)\n",
    "    # Reshape for batch matmul\n",
    "    m1 = m1.reshape(batch*num_points,1,1,2).repeat(1,2,1,1)\n",
    "    m3 = m3.reshape(batch*num_points,1,2,1)\n",
    "    return scale[:,None] * torch.matmul( torch.matmul(m1, m2).permute(0,3,2,1), m3 ).flatten(start_dim=1)"
   ]
  },
  {
   "cell_type": "code",
   "execution_count": 67,
   "id": "d9073da5-986c-4fa9-8c17-4ad7b1b2502e",
   "metadata": {},
   "outputs": [
    {
     "name": "stdout",
     "output_type": "stream",
     "text": [
      "torch.Size([2, 2, 2, 3])\n",
      "2 torch.Size([32, 1]) torch.Size([32, 1])\n"
     ]
    },
    {
     "ename": "RuntimeError",
     "evalue": "shape '[2, 1, 1, 2]' is invalid for input of size 64",
     "output_type": "error",
     "traceback": [
      "\u001b[0;31m---------------------------------------------------------------------------\u001b[0m",
      "\u001b[0;31mRuntimeError\u001b[0m                              Traceback (most recent call last)",
      "\u001b[0;32m/tmp/ipykernel_138890/241315050.py\u001b[0m in \u001b[0;36m<module>\u001b[0;34m\u001b[0m\n\u001b[1;32m      1\u001b[0m \u001b[0mim\u001b[0m \u001b[0;34m=\u001b[0m \u001b[0mtorch\u001b[0m\u001b[0;34m.\u001b[0m\u001b[0marange\u001b[0m\u001b[0;34m(\u001b[0m\u001b[0;36m4\u001b[0m\u001b[0;34m)\u001b[0m\u001b[0;34m.\u001b[0m\u001b[0mreshape\u001b[0m\u001b[0;34m(\u001b[0m\u001b[0;36m1\u001b[0m\u001b[0;34m,\u001b[0m\u001b[0;36m2\u001b[0m\u001b[0;34m,\u001b[0m\u001b[0;36m2\u001b[0m\u001b[0;34m,\u001b[0m\u001b[0;36m1\u001b[0m\u001b[0;34m)\u001b[0m\u001b[0;34m.\u001b[0m\u001b[0mrepeat\u001b[0m\u001b[0;34m(\u001b[0m\u001b[0;36m2\u001b[0m\u001b[0;34m,\u001b[0m\u001b[0;36m1\u001b[0m\u001b[0;34m,\u001b[0m\u001b[0;36m1\u001b[0m\u001b[0;34m,\u001b[0m\u001b[0;36m3\u001b[0m\u001b[0;34m)\u001b[0m\u001b[0;34m\u001b[0m\u001b[0;34m\u001b[0m\u001b[0m\n\u001b[1;32m      2\u001b[0m \u001b[0mprint\u001b[0m\u001b[0;34m(\u001b[0m\u001b[0mim\u001b[0m\u001b[0;34m.\u001b[0m\u001b[0mshape\u001b[0m\u001b[0;34m)\u001b[0m\u001b[0;34m\u001b[0m\u001b[0;34m\u001b[0m\u001b[0m\n\u001b[0;32m----> 3\u001b[0;31m \u001b[0mmine\u001b[0m \u001b[0;34m=\u001b[0m \u001b[0mbatch_bli\u001b[0m\u001b[0;34m(\u001b[0m\u001b[0mim\u001b[0m\u001b[0;34m,\u001b[0m \u001b[0mx_b\u001b[0m\u001b[0;34m.\u001b[0m\u001b[0mrepeat\u001b[0m\u001b[0;34m(\u001b[0m\u001b[0;36m2\u001b[0m\u001b[0;34m,\u001b[0m\u001b[0;36m1\u001b[0m\u001b[0;34m)\u001b[0m\u001b[0;34m,\u001b[0m \u001b[0my_b\u001b[0m\u001b[0;34m.\u001b[0m\u001b[0mrepeat\u001b[0m\u001b[0;34m(\u001b[0m\u001b[0;36m2\u001b[0m\u001b[0;34m,\u001b[0m\u001b[0;36m1\u001b[0m\u001b[0;34m)\u001b[0m\u001b[0;34m)\u001b[0m\u001b[0;34m\u001b[0m\u001b[0;34m\u001b[0m\u001b[0m\n\u001b[0m\u001b[1;32m      4\u001b[0m \u001b[0mtheirs\u001b[0m \u001b[0;34m=\u001b[0m \u001b[0mtorch\u001b[0m\u001b[0;34m.\u001b[0m\u001b[0mTensor\u001b[0m\u001b[0;34m(\u001b[0m\u001b[0mtuple\u001b[0m\u001b[0;34m(\u001b[0m\u001b[0mbilinear_interpolate\u001b[0m\u001b[0;34m(\u001b[0m\u001b[0mim\u001b[0m\u001b[0;34m[\u001b[0m\u001b[0mb\u001b[0m\u001b[0;34m,\u001b[0m\u001b[0;34m:\u001b[0m\u001b[0;34m,\u001b[0m\u001b[0;34m:\u001b[0m\u001b[0;34m,\u001b[0m\u001b[0mc\u001b[0m\u001b[0;34m]\u001b[0m\u001b[0;34m,\u001b[0m \u001b[0mx\u001b[0m\u001b[0;34m,\u001b[0m \u001b[0my\u001b[0m\u001b[0;34m)\u001b[0m\u001b[0;34m.\u001b[0m\u001b[0mitem\u001b[0m\u001b[0;34m(\u001b[0m\u001b[0;34m)\u001b[0m \u001b[0;32mfor\u001b[0m \u001b[0mb\u001b[0m \u001b[0;32min\u001b[0m \u001b[0mrange\u001b[0m\u001b[0;34m(\u001b[0m\u001b[0;36m2\u001b[0m\u001b[0;34m)\u001b[0m \u001b[0;32mfor\u001b[0m \u001b[0mc\u001b[0m \u001b[0;32min\u001b[0m \u001b[0mrange\u001b[0m\u001b[0;34m(\u001b[0m\u001b[0;36m3\u001b[0m\u001b[0;34m)\u001b[0m\u001b[0;34m)\u001b[0m\u001b[0;34m)\u001b[0m\u001b[0;34m\u001b[0m\u001b[0;34m\u001b[0m\u001b[0m\n\u001b[1;32m      5\u001b[0m \u001b[0mprint\u001b[0m\u001b[0;34m(\u001b[0m\u001b[0mmine\u001b[0m\u001b[0;34m,\u001b[0m \u001b[0mtheirs\u001b[0m\u001b[0;34m)\u001b[0m\u001b[0;34m\u001b[0m\u001b[0;34m\u001b[0m\u001b[0m\n",
      "\u001b[0;32m/tmp/ipykernel_138890/4281486259.py\u001b[0m in \u001b[0;36mbatch_bli\u001b[0;34m(im, x, y, channel_first, dtype, dtype_long)\u001b[0m\n\u001b[1;32m     28\u001b[0m     \u001b[0mm3\u001b[0m \u001b[0;34m=\u001b[0m \u001b[0mtorch\u001b[0m\u001b[0;34m.\u001b[0m\u001b[0mcat\u001b[0m\u001b[0;34m(\u001b[0m\u001b[0;34m[\u001b[0m \u001b[0mtorch\u001b[0m\u001b[0;34m.\u001b[0m\u001b[0msub\u001b[0m\u001b[0;34m(\u001b[0m\u001b[0my1\u001b[0m\u001b[0;34m,\u001b[0m \u001b[0my\u001b[0m\u001b[0;34m)\u001b[0m\u001b[0;34m,\u001b[0m \u001b[0mtorch\u001b[0m\u001b[0;34m.\u001b[0m\u001b[0msub\u001b[0m\u001b[0;34m(\u001b[0m\u001b[0my\u001b[0m\u001b[0;34m,\u001b[0m \u001b[0my0\u001b[0m\u001b[0;34m)\u001b[0m \u001b[0;34m]\u001b[0m\u001b[0;34m,\u001b[0m \u001b[0mdim\u001b[0m\u001b[0;34m=\u001b[0m\u001b[0;36m1\u001b[0m\u001b[0;34m)\u001b[0m\u001b[0;34m\u001b[0m\u001b[0;34m\u001b[0m\u001b[0m\n\u001b[1;32m     29\u001b[0m     \u001b[0;31m# Reshape for batch matmul\u001b[0m\u001b[0;34m\u001b[0m\u001b[0;34m\u001b[0m\u001b[0;34m\u001b[0m\u001b[0m\n\u001b[0;32m---> 30\u001b[0;31m     \u001b[0mm1\u001b[0m \u001b[0;34m=\u001b[0m \u001b[0mm1\u001b[0m\u001b[0;34m.\u001b[0m\u001b[0mreshape\u001b[0m\u001b[0;34m(\u001b[0m\u001b[0mbatch\u001b[0m\u001b[0;34m*\u001b[0m\u001b[0mnum_points\u001b[0m\u001b[0;34m,\u001b[0m\u001b[0;36m1\u001b[0m\u001b[0;34m,\u001b[0m\u001b[0;36m1\u001b[0m\u001b[0;34m,\u001b[0m\u001b[0;36m2\u001b[0m\u001b[0;34m)\u001b[0m\u001b[0;34m.\u001b[0m\u001b[0mrepeat\u001b[0m\u001b[0;34m(\u001b[0m\u001b[0;36m1\u001b[0m\u001b[0;34m,\u001b[0m\u001b[0;36m2\u001b[0m\u001b[0;34m,\u001b[0m\u001b[0;36m1\u001b[0m\u001b[0;34m,\u001b[0m\u001b[0;36m1\u001b[0m\u001b[0;34m)\u001b[0m\u001b[0;34m\u001b[0m\u001b[0;34m\u001b[0m\u001b[0m\n\u001b[0m\u001b[1;32m     31\u001b[0m     \u001b[0mm3\u001b[0m \u001b[0;34m=\u001b[0m \u001b[0mm3\u001b[0m\u001b[0;34m.\u001b[0m\u001b[0mreshape\u001b[0m\u001b[0;34m(\u001b[0m\u001b[0mbatch\u001b[0m\u001b[0;34m*\u001b[0m\u001b[0mnum_points\u001b[0m\u001b[0;34m,\u001b[0m\u001b[0;36m1\u001b[0m\u001b[0;34m,\u001b[0m\u001b[0;36m2\u001b[0m\u001b[0;34m,\u001b[0m\u001b[0;36m1\u001b[0m\u001b[0;34m)\u001b[0m\u001b[0;34m\u001b[0m\u001b[0;34m\u001b[0m\u001b[0m\n\u001b[1;32m     32\u001b[0m     \u001b[0;32mreturn\u001b[0m \u001b[0mscale\u001b[0m\u001b[0;34m[\u001b[0m\u001b[0;34m:\u001b[0m\u001b[0;34m,\u001b[0m\u001b[0;32mNone\u001b[0m\u001b[0;34m]\u001b[0m \u001b[0;34m*\u001b[0m \u001b[0mtorch\u001b[0m\u001b[0;34m.\u001b[0m\u001b[0mmatmul\u001b[0m\u001b[0;34m(\u001b[0m \u001b[0mtorch\u001b[0m\u001b[0;34m.\u001b[0m\u001b[0mmatmul\u001b[0m\u001b[0;34m(\u001b[0m\u001b[0mm1\u001b[0m\u001b[0;34m,\u001b[0m \u001b[0mm2\u001b[0m\u001b[0;34m)\u001b[0m\u001b[0;34m.\u001b[0m\u001b[0mpermute\u001b[0m\u001b[0;34m(\u001b[0m\u001b[0;36m0\u001b[0m\u001b[0;34m,\u001b[0m\u001b[0;36m3\u001b[0m\u001b[0;34m,\u001b[0m\u001b[0;36m2\u001b[0m\u001b[0;34m,\u001b[0m\u001b[0;36m1\u001b[0m\u001b[0;34m)\u001b[0m\u001b[0;34m,\u001b[0m \u001b[0mm3\u001b[0m \u001b[0;34m)\u001b[0m\u001b[0;34m.\u001b[0m\u001b[0mflatten\u001b[0m\u001b[0;34m(\u001b[0m\u001b[0mstart_dim\u001b[0m\u001b[0;34m=\u001b[0m\u001b[0;36m1\u001b[0m\u001b[0;34m)\u001b[0m\u001b[0;34m\u001b[0m\u001b[0;34m\u001b[0m\u001b[0m\n",
      "\u001b[0;31mRuntimeError\u001b[0m: shape '[2, 1, 1, 2]' is invalid for input of size 64"
     ]
    }
   ],
   "source": [
    "im = torch.arange(4).reshape(1,2,2,1).repeat(2,1,1,3)\n",
    "print(im.shape)\n",
    "mine = batch_bli(im, x_b.repeat(2,1), y_b.repeat(2,1))\n",
    "theirs = torch.Tensor(tuple(bilinear_interpolate(im[b,:,:,c], x, y).item() for b in range(2) for c in range(3)))\n",
    "print(mine, theirs)"
   ]
  },
  {
   "cell_type": "code",
   "execution_count": null,
   "id": "3a27fa6d-e6a0-411c-993d-b34e2382bf60",
   "metadata": {},
   "outputs": [],
   "source": []
  },
  {
   "cell_type": "code",
   "execution_count": null,
   "id": "8af06209-584f-482c-81db-a0524f98b153",
   "metadata": {},
   "outputs": [],
   "source": []
  }
 ],
 "metadata": {
  "kernelspec": {
   "display_name": "pytorch_env",
   "language": "python",
   "name": "pytorch_env"
  },
  "language_info": {
   "codemirror_mode": {
    "name": "ipython",
    "version": 3
   },
   "file_extension": ".py",
   "mimetype": "text/x-python",
   "name": "python",
   "nbconvert_exporter": "python",
   "pygments_lexer": "ipython3",
   "version": "3.7.13"
  }
 },
 "nbformat": 4,
 "nbformat_minor": 5
}
